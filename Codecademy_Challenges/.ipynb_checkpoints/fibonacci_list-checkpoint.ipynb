{
 "cells": [
  {
   "cell_type": "code",
   "execution_count": 1,
   "id": "c966d8a0",
   "metadata": {},
   "outputs": [
    {
     "name": "stdout",
     "output_type": "stream",
     "text": [
      "The Fibonacci list from 100 including 5 numbers if the counter is 10: [100, 110, 210, 320, 530]\n",
      "The 5th value is 530.\n"
     ]
    }
   ],
   "source": [
    "def fib_finder(n, fib_list):\n",
    "  str1, str2 = 'The Fibonacci list from', 'numbers if the counter is'\n",
    "  new_list = [num for num in range(1,n+1,1)]\n",
    "  for i in range(len(new_list)-2):\n",
    "      fib_list.append(fib_list[i] + fib_list[i+1])\n",
    "  print(f'{str1} {fib_list[0]} including {n} {str2} {fib_list[1]-fib_list[0]}: {fib_list}')\n",
    "  print(f'The {n}th value is {fib_list[n-1]:,}.')\n",
    "if __name__ == '__main__':\n",
    "    num = int(input('Please enter the length of the requested Fibonacci list:'))\n",
    "    fib_list = [int(input(f'Please enter the number at index {i}:')) for i in range(2)]\n",
    "    fib_finder(num, fib_list)"
   ]
  },
  {
   "cell_type": "code",
   "execution_count": null,
   "id": "1ac66b48",
   "metadata": {},
   "outputs": [],
   "source": []
  }
 ],
 "metadata": {
  "kernelspec": {
   "display_name": "Python 3 (ipykernel)",
   "language": "python",
   "name": "python3"
  },
  "language_info": {
   "codemirror_mode": {
    "name": "ipython",
    "version": 3
   },
   "file_extension": ".py",
   "mimetype": "text/x-python",
   "name": "python",
   "nbconvert_exporter": "python",
   "pygments_lexer": "ipython3",
   "version": "3.10.9"
  }
 },
 "nbformat": 4,
 "nbformat_minor": 5
}
