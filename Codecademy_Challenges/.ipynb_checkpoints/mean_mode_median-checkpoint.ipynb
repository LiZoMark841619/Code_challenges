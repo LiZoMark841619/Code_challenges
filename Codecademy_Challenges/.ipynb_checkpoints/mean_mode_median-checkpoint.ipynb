{
 "cells": [
  {
   "cell_type": "code",
   "execution_count": 12,
   "id": "044a5134",
   "metadata": {},
   "outputs": [
    {
     "name": "stdout",
     "output_type": "stream",
     "text": [
      "Please enter the length of the list: 6\n",
      "Please enter the number at index 0:300\n",
      "Please enter the number at index 1:300\n",
      "Please enter the number at index 2:650\n",
      "Please enter the number at index 3:900\n",
      "Please enter the number at index 4:1200\n",
      "Please enter the number at index 5:1500\n",
      "The mean, the median and the mode of [300, 300, 650, 900, 1200, 1500] numbers are as follows: [808.3333333333334, 775.0, 300]\n"
     ]
    }
   ],
   "source": [
    "def stats_finder(list):\n",
    "    \n",
    "    sort = sorted(list)\n",
    "    if len(list) % 2 == 0:\n",
    "        num = sort[int(len(sort)/2)] + sort[int(len(sort)/2) -1]\n",
    "        median = num / 2\n",
    "    elif len(list) % 2 != 0:\n",
    "        median = sort[int(len(sort)/2)]\n",
    "    \n",
    "    count = 0\n",
    "    new_dict = {}\n",
    "    for num in sort:\n",
    "      count += num\n",
    "      new_dict[num] = sort.count(num)\n",
    "    mean = count / len(sort)\n",
    "    \n",
    "    max_value = 1\n",
    "    for key, value in new_dict.items():\n",
    "        if value > max_value:\n",
    "          max_value = value\n",
    "          mode = key       \n",
    "    good_list = [mean, median, mode]\n",
    "    return good_list\n",
    "\n",
    "if __name__ == '__main__': \n",
    "    len_list = int(input('Please enter the length of the list: '))       \n",
    "    list = [int(input(f'Please enter the number at index {str(i)}:')) for i in range(len_list)]\n",
    "    mean_mode_median = stats_finder(list)\n",
    "    print(f'The mean, the median and the mode of {list} numbers are as follows: {mean_mode_median}')"
   ]
  },
  {
   "cell_type": "markdown",
   "id": "14a793c6",
   "metadata": {},
   "source": [
    "##### "
   ]
  }
 ],
 "metadata": {
  "kernelspec": {
   "display_name": "Python 3 (ipykernel)",
   "language": "python",
   "name": "python3"
  },
  "language_info": {
   "codemirror_mode": {
    "name": "ipython",
    "version": 3
   },
   "file_extension": ".py",
   "mimetype": "text/x-python",
   "name": "python",
   "nbconvert_exporter": "python",
   "pygments_lexer": "ipython3",
   "version": "3.10.9"
  }
 },
 "nbformat": 4,
 "nbformat_minor": 5
}
