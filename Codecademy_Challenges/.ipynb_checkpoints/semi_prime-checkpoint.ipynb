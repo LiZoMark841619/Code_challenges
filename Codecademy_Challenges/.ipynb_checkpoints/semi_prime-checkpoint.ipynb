{
 "cells": [
  {
   "cell_type": "code",
   "execution_count": 3,
   "metadata": {},
   "outputs": [
    {
     "name": "stdout",
     "output_type": "stream",
     "text": [
      "Please enter a number to find all the \"SEMI PRIMES\" between 2 and that number:10\n",
      "3\n"
     ]
    }
   ],
   "source": [
    "def semi_prime_count(n):\n",
    "    primes = []\n",
    "    for i in range(2, n + 1):\n",
    "        counter = 0\n",
    "        for k in range(1, i + 1):\n",
    "            if i % k == 0:\n",
    "                counter += 1\n",
    "        if counter == 2:\n",
    "            primes.append(i)\n",
    "    new_list = [num for num in range(n+1)]\n",
    "    newer_list = [new_list[i] for i in range(2, len(new_list)-1) if new_list[i] not in primes]\n",
    "    counter1 = 0\n",
    "    for num in newer_list:\n",
    "      for i in range(len(primes)):\n",
    "        for k in range(i+1, len(primes)):\n",
    "          if num == primes[i]*primes[k]:\n",
    "            counter1 += 1\n",
    "        if num == primes[i]**2:\n",
    "          counter1 +=1\n",
    "    return counter1\n",
    "if __name__=='__main__':\n",
    "    n = int(input('Please enter a number to find all the \"SEMI PRIMES\" between 2 and that number:'))\n",
    "    print(semi_prime_count(n))"
   ]
  },
  {
   "cell_type": "code",
   "execution_count": null,
   "metadata": {},
   "outputs": [],
   "source": []
  }
 ],
 "metadata": {
  "kernelspec": {
   "display_name": "Python 3 (ipykernel)",
   "language": "python",
   "name": "python3"
  },
  "language_info": {
   "codemirror_mode": {
    "name": "ipython",
    "version": 3
   },
   "file_extension": ".py",
   "mimetype": "text/x-python",
   "name": "python",
   "nbconvert_exporter": "python",
   "pygments_lexer": "ipython3",
   "version": "3.10.9"
  }
 },
 "nbformat": 4,
 "nbformat_minor": 4
}
