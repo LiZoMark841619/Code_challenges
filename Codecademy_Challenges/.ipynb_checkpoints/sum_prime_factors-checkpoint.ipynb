{
 "cells": [
  {
   "cell_type": "code",
   "execution_count": 15,
   "metadata": {},
   "outputs": [
    {
     "name": "stdout",
     "output_type": "stream",
     "text": [
      "The prime factors of 500 are as follows: [2, 5]\n",
      "2\n",
      "The sum of these factors is 7.\n"
     ]
    }
   ],
   "source": [
    "def sum_of_prime_factors(n):\n",
    "  prims = []\n",
    "  for i in range(2, n + 1):\n",
    "      counter = 0\n",
    "      for k in range(1, i + 1):\n",
    "          if i % k == 0:\n",
    "              counter += 1\n",
    "      if counter == 2:\n",
    "          prims.append(i)\n",
    "  new_list = [number for number in prims if n % number == 0]\n",
    "  print(\"The prime factors of {} are as follows: {}\".format(n, new_list))\n",
    "  print(len(new_list))\n",
    "  for num in new_list:\n",
    "    \n",
    "  for n in new_list:\n",
    "    return 'The sum of these factors is '+str(sum(new_list))+'.'\n",
    "if __name__ == '__main__':\n",
    "  n = int(input('Please enter one number which prime factors and its sum must be found: '))\n",
    "  print((sum_of_prime_factors(n)))"
   ]
  },
  {
   "cell_type": "code",
   "execution_count": null,
   "metadata": {},
   "outputs": [],
   "source": []
  }
 ],
 "metadata": {
  "kernelspec": {
   "display_name": "Python 3 (ipykernel)",
   "language": "python",
   "name": "python3"
  },
  "language_info": {
   "codemirror_mode": {
    "name": "ipython",
    "version": 3
   },
   "file_extension": ".py",
   "mimetype": "text/x-python",
   "name": "python",
   "nbconvert_exporter": "python",
   "pygments_lexer": "ipython3",
   "version": "3.10.9"
  }
 },
 "nbformat": 4,
 "nbformat_minor": 4
}
