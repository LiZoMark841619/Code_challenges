{
 "cells": [
  {
   "cell_type": "code",
   "execution_count": 3,
   "id": "7099f01f",
   "metadata": {},
   "outputs": [
    {
     "name": "stdout",
     "output_type": "stream",
     "text": [
      "The fibonacci list is below:[0, 1, 1, 2, 3, 5, 8, 13, 21, 34]\n"
     ]
    }
   ],
   "source": [
    "def fib_finder(n):\n",
    "  fib_list = [0, 1]\n",
    "  fib_list.extend(fib_list[i] + fib_list[i+1] for i in range(n-2))\n",
    "  return n, fib_list\n",
    "if __name__ == '__main__':\n",
    "    num = int(input('Please enter the length of the requested Fibonacci list:'))\n",
    "    first = fib_finder(num)\n",
    "    print(f'The fibonacci list is below:{first[1]}')"
   ]
  }
 ],
 "metadata": {
  "kernelspec": {
   "display_name": "Python 3 (ipykernel)",
   "language": "python",
   "name": "python3"
  },
  "language_info": {
   "codemirror_mode": {
    "name": "ipython",
    "version": 3
   },
   "file_extension": ".py",
   "mimetype": "text/x-python",
   "name": "python",
   "nbconvert_exporter": "python",
   "pygments_lexer": "ipython3",
   "version": "3.11.4"
  }
 },
 "nbformat": 4,
 "nbformat_minor": 5
}
