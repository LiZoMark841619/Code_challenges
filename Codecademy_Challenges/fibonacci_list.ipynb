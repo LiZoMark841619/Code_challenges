{
 "cells": [
  {
   "cell_type": "code",
   "execution_count": 3,
   "id": "c966d8a0",
   "metadata": {},
   "outputs": [
    {
     "name": "stdout",
     "output_type": "stream",
     "text": [
      "The Fibonacci list from 110 including 10 number is [110, 120, 230, 350, 580, 930, 1510, 2440, 3950, 6390]\n"
     ]
    }
   ],
   "source": [
    "def fib_finder(n, fib_list):\n",
    "  new_list = list(range(1, n+1, 1))\n",
    "  fib_list.extend(fib_list[i] + fib_list[i+1] for i in range(len(new_list)-2))\n",
    "  return fib_list\n",
    "\n",
    "if __name__ == '__main__':\n",
    "    num = int(input('Please enter the length of the requested Fibonacci list:'))\n",
    "    fib_list = [int(input(f'Please enter the number at index {i}:')) for i in range(2)]\n",
    "    str1, str2 = 'The Fibonacci list from', 'numbers if the counter is'\n",
    "    print(f'{str1} {fib_list[0]} including {num} number is below: {fib_finder(num, fib_list)}')"
   ]
  },
  {
   "cell_type": "code",
   "execution_count": null,
   "id": "1ac66b48",
   "metadata": {},
   "outputs": [],
   "source": []
  }
 ],
 "metadata": {
  "kernelspec": {
   "display_name": "Python 3 (ipykernel)",
   "language": "python",
   "name": "python3"
  },
  "language_info": {
   "codemirror_mode": {
    "name": "ipython",
    "version": 3
   },
   "file_extension": ".py",
   "mimetype": "text/x-python",
   "name": "python",
   "nbconvert_exporter": "python",
   "pygments_lexer": "ipython3",
   "version": "3.11.4"
  }
 },
 "nbformat": 4,
 "nbformat_minor": 5
}
