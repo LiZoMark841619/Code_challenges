{
 "cells": [
  {
   "cell_type": "code",
   "execution_count": 1,
   "id": "1ff14d6a",
   "metadata": {},
   "outputs": [
    {
     "name": "stdout",
     "output_type": "stream",
     "text": [
      "The Boolean value of \"Balazs you are doing great for almost half a year.\" string has only unique characters is:\n",
      "False\n"
     ]
    }
   ],
   "source": [
    "def unique_characters(string_in):\n",
    "  alphabet = 'abcdefghijklmnopqrstuvwxyz'\n",
    "  print(f'The Boolean value of \"{string_in}\" string has only unique characters is:')\n",
    "  for idx in range(len(string_in)):\n",
    "    for target_value in string_in[idx+1:]:\n",
    "        if string_in[idx] == target_value and string_in[idx] in alphabet:\n",
    "            return False\n",
    "  if string_in:\n",
    "        return True\n",
    "if __name__=='__main__':\n",
    "  word = input('Please enter a string to determine if it has only unique characters or not:')\n",
    "  string_in = unique_characters(word)\n",
    "  print(string_in)"
   ]
  },
  {
   "cell_type": "code",
   "execution_count": null,
   "id": "cbaec03b",
   "metadata": {},
   "outputs": [],
   "source": []
  },
  {
   "cell_type": "code",
   "execution_count": null,
   "id": "c9f9321e",
   "metadata": {},
   "outputs": [],
   "source": []
  }
 ],
 "metadata": {
  "kernelspec": {
   "display_name": "Python 3 (ipykernel)",
   "language": "python",
   "name": "python3"
  },
  "language_info": {
   "codemirror_mode": {
    "name": "ipython",
    "version": 3
   },
   "file_extension": ".py",
   "mimetype": "text/x-python",
   "name": "python",
   "nbconvert_exporter": "python",
   "pygments_lexer": "ipython3",
   "version": "3.10.9"
  }
 },
 "nbformat": 4,
 "nbformat_minor": 5
}
