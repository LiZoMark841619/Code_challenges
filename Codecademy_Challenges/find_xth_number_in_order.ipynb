{
 "cells": [
  {
   "cell_type": "code",
   "execution_count": 4,
   "metadata": {},
   "outputs": [
    {
     "name": "stdout",
     "output_type": "stream",
     "text": [
      "In [100, 200, 10, 30, 40, 50] the 3rd element in the order is:\n",
      "40\n"
     ]
    }
   ],
   "source": [
    "def getX(x, nums):\n",
    "  if x == 1:\n",
    "    print('In', nums, 'the', str(x)+'st element in the order is:')\n",
    "  elif x == 2:\n",
    "    print('In', nums, 'the', str(x)+'nd element in the order is:')\n",
    "  elif x == 3:\n",
    "    print('In', nums, 'the', str(x)+'rd element in the order is:')\n",
    "  else:\n",
    "    print('In', nums, 'the', str(x)+'th element in the order is:')\n",
    "  for num in nums:\n",
    "    if x in range(1, len(nums) + 1):\n",
    "      return sorted(nums)[x-1]\n",
    "    else:\n",
    "      return 'There is none because in the list there is only {} elements.'.format(x-1)\n",
    "  if nums == []:\n",
    "    return 'There is none because the list is empty.'\n",
    "  \n",
    "if __name__=='__main__':\n",
    "  number = int(input('Please enter one number at place you would see a number from a given list:'))\n",
    "  list_size = int(input('Please enter the length of the list:'))\n",
    "  list = []\n",
    "  for i in range(list_size):\n",
    "    num = int(input('Please enter the numbers to add to the list:'))\n",
    "    list.append(num)\n",
    "  print(getX(number, list))"
   ]
  }
 ],
 "metadata": {
  "kernelspec": {
   "display_name": "Python 3 (ipykernel)",
   "language": "python",
   "name": "python3"
  },
  "language_info": {
   "codemirror_mode": {
    "name": "ipython",
    "version": 3
   },
   "file_extension": ".py",
   "mimetype": "text/x-python",
   "name": "python",
   "nbconvert_exporter": "python",
   "pygments_lexer": "ipython3",
   "version": "3.10.9"
  }
 },
 "nbformat": 4,
 "nbformat_minor": 4
}
