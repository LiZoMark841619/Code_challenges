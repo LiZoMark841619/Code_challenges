{
 "cells": [
  {
   "cell_type": "code",
   "execution_count": 1,
   "id": "a6373703",
   "metadata": {},
   "outputs": [
    {
     "name": "stdout",
     "output_type": "stream",
     "text": [
      "['Fizz', 'Fizz', 'Fizz', 'Fizz', 'Buzz', 'Fizz', 'Fizz', 'Fizz', 'Fizz', 'Buzz', 'Fizz', 'Fizz', 'Fizz', 'Fizz', 'FizzBuzz', 'Fizz', 'Fizz', 'Fizz', 'Fizz', 'Buzz', 'Fizz']\n"
     ]
    }
   ],
   "source": [
    "def fizzbuzz(n):\n",
    "  new_list = []\n",
    "  for k in range(1, n+1):\n",
    "    if k % 3 == 0 and k % 5 != 0:\n",
    "      new_list.append(\"Fizz\")\n",
    "    elif k % 5 == 0 and k % 3 != 0:\n",
    "      new_list.append('Buzz')\n",
    "    elif k % 5 == 0 and k % 3 == 0:\n",
    "      new_list.append(\"FizzBuzz\")\n",
    "    elif k % 5 != 0 and k % 3 !=0:\n",
    "      new_list.append(k)\n",
    "  return new_list\n",
    "if __name__=='__main__':\n",
    "  number = int(input('Please enter a number:'))\n",
    "  print(fizzbuzz(number))"
   ]
  }
 ],
 "metadata": {
  "kernelspec": {
   "display_name": "Python 3 (ipykernel)",
   "language": "python",
   "name": "python3"
  },
  "language_info": {
   "codemirror_mode": {
    "name": "ipython",
    "version": 3
   },
   "file_extension": ".py",
   "mimetype": "text/x-python",
   "name": "python",
   "nbconvert_exporter": "python",
   "pygments_lexer": "ipython3",
   "version": "3.11.4"
  }
 },
 "nbformat": 4,
 "nbformat_minor": 5
}
