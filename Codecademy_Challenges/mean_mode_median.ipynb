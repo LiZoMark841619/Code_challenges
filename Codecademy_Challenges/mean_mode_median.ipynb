{
 "cells": [
  {
   "cell_type": "code",
   "execution_count": 4,
   "id": "044a5134",
   "metadata": {},
   "outputs": [
    {
     "name": "stdout",
     "output_type": "stream",
     "text": [
      "The mean, the median and the mode of [100, 400, 400, 1000] numbers are as follows: [475.0, 400.0, 400]\n"
     ]
    }
   ],
   "source": [
    "def stats_finder(list):\n",
    "\n",
    "    sort = sorted(list)\n",
    "    if len(list) % 2 == 0:\n",
    "        num = sort[len(sort)//2] + sort[len(sort)//2 -1]\n",
    "        median = num / 2\n",
    "    else:\n",
    "        len(list) % 2 != 0\n",
    "        median = sort[len(sort)//2]\n",
    "    \n",
    "    new_dict = {num:sort.count(num) for num in sort}\n",
    "    mean = sum(sort) / len(sort)\n",
    "    \n",
    "    max_value = 0\n",
    "    for key, value in new_dict.items():\n",
    "        if value > max_value:\n",
    "          max_value = value\n",
    "          mode = key      \n",
    "    return [mean, median, mode]\n",
    "\n",
    "if __name__ == '__main__': \n",
    "    length = int(input('Please enter the length of the list: '))       \n",
    "    my_list = [int(input(f'Please enter the number at index {str(i)}:')) for i in range(length)]\n",
    "    mean_mode_median = stats_finder(my_list)\n",
    "    print(f'The mean, the median and the mode of {my_list} numbers are as follows: {mean_mode_median}')"
   ]
  },
  {
   "cell_type": "code",
   "execution_count": null,
   "id": "78584bad",
   "metadata": {},
   "outputs": [],
   "source": []
  }
 ],
 "metadata": {
  "kernelspec": {
   "display_name": "Python 3 (ipykernel)",
   "language": "python",
   "name": "python3"
  },
  "language_info": {
   "codemirror_mode": {
    "name": "ipython",
    "version": 3
   },
   "file_extension": ".py",
   "mimetype": "text/x-python",
   "name": "python",
   "nbconvert_exporter": "python",
   "pygments_lexer": "ipython3",
   "version": "3.11.4"
  }
 },
 "nbformat": 4,
 "nbformat_minor": 5
}
