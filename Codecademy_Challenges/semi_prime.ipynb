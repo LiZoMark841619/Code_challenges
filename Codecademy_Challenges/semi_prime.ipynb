{
 "cells": [
  {
   "cell_type": "code",
   "execution_count": 1,
   "metadata": {},
   "outputs": [
    {
     "name": "stdout",
     "output_type": "stream",
     "text": [
      "From 2 to 30 there are 10 semi-primes as follows: [4, 6, 9, 10, 14, 15, 21, 22, 25, 26]\n"
     ]
    }
   ],
   "source": [
    "import itertools\n",
    "def semi_prime_count(n):\n",
    "    primes = [i for i in range(2, n+1) if sum(1 for k in range(1, i+1) if i%k == 0) == 2]\n",
    "    not_primes = [num for num in range(n+1) if num not in primes]\n",
    "    \n",
    "    counter = 0\n",
    "    semi_primes = []\n",
    "    for num, i in itertools.product(not_primes, range(len(primes))):\n",
    "        for k in range(i, len(primes)):\n",
    "          if num == primes[i]*primes[k]:\n",
    "            counter += 1\n",
    "            semi_primes.append(num)\n",
    "            \n",
    "    return n, counter, semi_primes\n",
    "  \n",
    "if __name__=='__main__':\n",
    "    n = int(input('Please enter a number to find all the \"SEMI PRIMES\" between 2 and that number:'))\n",
    "    semi_first = semi_prime_count(n)\n",
    "    print('From 2 to',semi_first[0],'there are',semi_first[1],'semi-primes','as follows:', semi_first[2])"
   ]
  },
  {
   "cell_type": "code",
   "execution_count": null,
   "metadata": {},
   "outputs": [],
   "source": []
  }
 ],
 "metadata": {
  "kernelspec": {
   "display_name": "Python 3 (ipykernel)",
   "language": "python",
   "name": "python3"
  },
  "language_info": {
   "codemirror_mode": {
    "name": "ipython",
    "version": 3
   },
   "file_extension": ".py",
   "mimetype": "text/x-python",
   "name": "python",
   "nbconvert_exporter": "python",
   "pygments_lexer": "ipython3",
   "version": "3.11.4"
  }
 },
 "nbformat": 4,
 "nbformat_minor": 4
}
