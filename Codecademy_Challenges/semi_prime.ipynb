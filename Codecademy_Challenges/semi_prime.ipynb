{
 "cells": [
  {
   "cell_type": "code",
   "execution_count": 1,
   "metadata": {},
   "outputs": [
    {
     "name": "stdout",
     "output_type": "stream",
     "text": [
      "From 2 to 91 there are 30 \"semi primes\" and the numbers are below:\n",
      "[4, 6, 9, 10, 14, 15, 21, 22, 25, 26, 33, 34, 35, 38, 39, 46, 49, 51, 55, 57, 58, 62, 65, 69, 74, 77, 82, 85, 86, 87]\n"
     ]
    }
   ],
   "source": [
    "def semi_prime_count(n):\n",
    "    primes = []\n",
    "    for i in range(2, n + 1):\n",
    "        counter = 0\n",
    "        for k in range(1, i + 1):\n",
    "            if i % k == 0:\n",
    "                counter += 1\n",
    "        if counter == 2:\n",
    "            primes.append(i)\n",
    "    new_list = [num for num in range(n+1)]\n",
    "    newer_list = [new_list[i] for i in range(2, len(new_list)-1) if new_list[i] not in primes]\n",
    "    counter1 = 0\n",
    "    semi_primes = []\n",
    "    for num in newer_list:\n",
    "      for i in range(len(primes)):\n",
    "        for k in range(i+1, len(primes)):\n",
    "          if num == primes[i]*primes[k]:\n",
    "            counter1 += 1\n",
    "            semi_primes.append(num)\n",
    "        if num == primes[i]**2:\n",
    "          counter1 +=1\n",
    "          semi_primes.append(num)\n",
    "    return f'From 2 to {n} there are {counter1} \"semi primes\" and the numbers are below:\\n{semi_primes}'\n",
    "if __name__=='__main__':\n",
    "    n = int(input('Please enter a number to find all the \"SEMI PRIMES\" between 2 and that number:'))\n",
    "    print(semi_prime_count(n))"
   ]
  },
  {
   "cell_type": "code",
   "execution_count": null,
   "metadata": {},
   "outputs": [],
   "source": []
  }
 ],
 "metadata": {
  "kernelspec": {
   "display_name": "Python 3 (ipykernel)",
   "language": "python",
   "name": "python3"
  },
  "language_info": {
   "codemirror_mode": {
    "name": "ipython",
    "version": 3
   },
   "file_extension": ".py",
   "mimetype": "text/x-python",
   "name": "python",
   "nbconvert_exporter": "python",
   "pygments_lexer": "ipython3",
   "version": "3.11.4"
  }
 },
 "nbformat": 4,
 "nbformat_minor": 4
}
