{
 "cells": [
  {
   "cell_type": "code",
   "execution_count": 1,
   "metadata": {},
   "outputs": [
    {
     "name": "stdout",
     "output_type": "stream",
     "text": [
      "The prime factors are below: [7, 13], and the sum of those is 20.\n"
     ]
    }
   ],
   "source": [
    "def sum_of_prime_factors(n):\n",
    "  prims = []\n",
    "  for i in range(2, n + 1):\n",
    "      counter = sum(1 for k in range(1, i+1) if i%k ==0)\n",
    "      if counter == 2:\n",
    "          prims.append(i)\n",
    "  new_list = [num for num in prims if n % num == 0]\n",
    "  return new_list, sum(new_list)\n",
    "if __name__ == '__main__':\n",
    "  n = int(input('Please enter one number which prime factors and its sum must be found: '))\n",
    "  first = sum_of_prime_factors(n)\n",
    "  print(f'The prime factors are below: {first[0]}, and the sum of those is {first[1]}.')"
   ]
  },
  {
   "cell_type": "code",
   "execution_count": null,
   "metadata": {},
   "outputs": [],
   "source": []
  }
 ],
 "metadata": {
  "kernelspec": {
   "display_name": "Python 3 (ipykernel)",
   "language": "python",
   "name": "python3"
  },
  "language_info": {
   "codemirror_mode": {
    "name": "ipython",
    "version": 3
   },
   "file_extension": ".py",
   "mimetype": "text/x-python",
   "name": "python",
   "nbconvert_exporter": "python",
   "pygments_lexer": "ipython3",
   "version": "3.11.4"
  }
 },
 "nbformat": 4,
 "nbformat_minor": 4
}
