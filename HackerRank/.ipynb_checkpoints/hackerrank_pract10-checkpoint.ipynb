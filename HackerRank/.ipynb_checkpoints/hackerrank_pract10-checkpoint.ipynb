{
 "cells": [
  {
   "cell_type": "markdown",
   "id": "a5997cf1",
   "metadata": {},
   "source": [
    "###### Calculate 2 numbers divison and modulo"
   ]
  },
  {
   "cell_type": "code",
   "execution_count": null,
   "id": "eb2fd6b6",
   "metadata": {},
   "outputs": [],
   "source": [
    "from __future__ import division\n",
    "\n",
    "if __name__=='__main__':\n",
    "    a = int(input())\n",
    "    b = int(input())\n",
    "    if b == 0:\n",
    "        raise ZeroDivisionError('Please select a non zero number!')\n",
    "    print(a//b)\n",
    "    print(a%b)\n",
    "    print(divmod(a,b))\n"
   ]
  },
  {
   "cell_type": "code",
   "execution_count": null,
   "id": "248c2483",
   "metadata": {},
   "outputs": [],
   "source": []
  }
 ],
 "metadata": {
  "kernelspec": {
   "display_name": "Python 3 (ipykernel)",
   "language": "python",
   "name": "python3"
  },
  "language_info": {
   "codemirror_mode": {
    "name": "ipython",
    "version": 3
   },
   "file_extension": ".py",
   "mimetype": "text/x-python",
   "name": "python",
   "nbconvert_exporter": "python",
   "pygments_lexer": "ipython3",
   "version": "3.10.9"
  }
 },
 "nbformat": 4,
 "nbformat_minor": 5
}
