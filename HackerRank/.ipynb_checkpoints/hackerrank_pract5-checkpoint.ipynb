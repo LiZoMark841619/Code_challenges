{
 "cells": [
  {
   "cell_type": "markdown",
   "id": "9539a31f",
   "metadata": {},
   "source": [
    "###### Function which search a person with the second-last-place in a class regarding the scores he/she and the classmates achieved"
   ]
  },
  {
   "cell_type": "code",
   "execution_count": null,
   "id": "5cd5f673",
   "metadata": {},
   "outputs": [],
   "source": [
    "if __name__ == '__main__':\n",
    "    dict = {}\n",
    "    print('Please enter the number of persons you are about to investigate regarded their scores:')\n",
    "    for _ in range(int(input())):\n",
    "        print('Requested name:')\n",
    "        name = input()\n",
    "        print('Related score:')\n",
    "        score = float(input())\n",
    "        dict[name] = score\n",
    "    scores = [value for value in dict.values()]\n",
    "    sorted = sorted(scores)\n",
    "    scores_new = [num for num in sorted if num > sorted[0]]\n",
    "    good_names = [key for key, value in dict.items() if value == scores_new[0]]\n",
    "    good_names.sort()\n",
    "    print('The second-to-last person(s) in alphabetical order is/are as follow:')\n",
    "    for name in good_names:\n",
    "        print(name)"
   ]
  },
  {
   "cell_type": "code",
   "execution_count": null,
   "id": "239e2716",
   "metadata": {},
   "outputs": [],
   "source": []
  }
 ],
 "metadata": {
  "kernelspec": {
   "display_name": "Python 3 (ipykernel)",
   "language": "python",
   "name": "python3"
  },
  "language_info": {
   "codemirror_mode": {
    "name": "ipython",
    "version": 3
   },
   "file_extension": ".py",
   "mimetype": "text/x-python",
   "name": "python",
   "nbconvert_exporter": "python",
   "pygments_lexer": "ipython3",
   "version": "3.10.9"
  }
 },
 "nbformat": 4,
 "nbformat_minor": 5
}
