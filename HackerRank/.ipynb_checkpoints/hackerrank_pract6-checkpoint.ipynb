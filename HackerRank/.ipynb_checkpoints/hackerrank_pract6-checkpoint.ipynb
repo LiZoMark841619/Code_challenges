{
 "cells": [
  {
   "cell_type": "markdown",
   "id": "4cd39801",
   "metadata": {},
   "source": [
    "###### Function which calculate the average score of a person in a class after requested the names and their scores"
   ]
  },
  {
   "cell_type": "code",
   "execution_count": null,
   "id": "3869de54",
   "metadata": {},
   "outputs": [],
   "source": [
    "if __name__ == '__main__':\n",
    "    print('Please enter the number of persons of your class whose scores must be investigated:')\n",
    "    n = int(input())\n",
    "    print(f'Please type in the {n} names and their achieved scores separated with one space between them:')\n",
    "    student_marks = {}\n",
    "    for _ in range(n):\n",
    "        name, *line = input().split()\n",
    "        scores = list(map(float, line))\n",
    "        student_marks[name] = scores\n",
    "    print('Please enter the name whose average score must be calculated:')\n",
    "    query_name = input()\n",
    "    print(f\"{query_name}'s average score is:\")\n",
    "    for key, value in student_marks.items():\n",
    "        if key == query_name:\n",
    "            print(f'{sum(value) / len(value):.2f}')"
   ]
  },
  {
   "cell_type": "code",
   "execution_count": null,
   "id": "f384ff30",
   "metadata": {},
   "outputs": [],
   "source": []
  }
 ],
 "metadata": {
  "kernelspec": {
   "display_name": "Python 3 (ipykernel)",
   "language": "python",
   "name": "python3"
  },
  "language_info": {
   "codemirror_mode": {
    "name": "ipython",
    "version": 3
   },
   "file_extension": ".py",
   "mimetype": "text/x-python",
   "name": "python",
   "nbconvert_exporter": "python",
   "pygments_lexer": "ipython3",
   "version": "3.10.9"
  }
 },
 "nbformat": 4,
 "nbformat_minor": 5
}
