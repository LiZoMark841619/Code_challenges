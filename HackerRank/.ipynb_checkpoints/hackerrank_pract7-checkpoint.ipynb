{
 "cells": [
  {
   "cell_type": "markdown",
   "id": "4cd39801",
   "metadata": {},
   "source": [
    "###### Function which request the commands you would like execute with a list"
   ]
  },
  {
   "cell_type": "code",
   "execution_count": null,
   "id": "3869de54",
   "metadata": {},
   "outputs": [],
   "source": [
    "if __name__ == '__main__':\n",
    "    print('Please enter the number of your requested commands between 1 and 7:')\n",
    "    N = int(input())\n",
    "    L = []\n",
    "    for i in range(N):\n",
    "        print('Please enter a valid command from: [\"reverse\", \"pop\", \"sort\" and \"append\", \"remove\", \"insert\", \"print\"]\\nand the related parameters:')\n",
    "        cmd = input().split()\n",
    "        if cmd[0] == \"insert\":\n",
    "            L.insert(int(cmd[1]),int(cmd[2]))\n",
    "        if cmd[0] == \"print\":\n",
    "            print(L)\n",
    "        if cmd[0] == \"remove\":\n",
    "            L.remove(int(cmd[1]))\n",
    "        if cmd[0] == \"append\":\n",
    "            L.append(int(cmd[1]))\n",
    "        if cmd[0] == \"sort\":\n",
    "            L.sort()\n",
    "        if cmd[0] == \"pop\":\n",
    "            L.pop()\n",
    "        if cmd[0] == \"reverse\":\n",
    "            L.reverse()"
   ]
  },
  {
   "cell_type": "code",
   "execution_count": null,
   "id": "f384ff30",
   "metadata": {},
   "outputs": [],
   "source": []
  }
 ],
 "metadata": {
  "kernelspec": {
   "display_name": "Python 3 (ipykernel)",
   "language": "python",
   "name": "python3"
  },
  "language_info": {
   "codemirror_mode": {
    "name": "ipython",
    "version": 3
   },
   "file_extension": ".py",
   "mimetype": "text/x-python",
   "name": "python",
   "nbconvert_exporter": "python",
   "pygments_lexer": "ipython3",
   "version": "3.10.9"
  }
 },
 "nbformat": 4,
 "nbformat_minor": 5
}
