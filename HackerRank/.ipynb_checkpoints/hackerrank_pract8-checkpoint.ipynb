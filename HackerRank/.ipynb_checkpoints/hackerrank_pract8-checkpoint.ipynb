{
 "cells": [
  {
   "cell_type": "markdown",
   "id": "4cd39801",
   "metadata": {},
   "source": [
    "###### Function which select the second largest number in a list"
   ]
  },
  {
   "cell_type": "code",
   "execution_count": null,
   "id": "3869de54",
   "metadata": {},
   "outputs": [],
   "source": [
    "if __name__ == '__main__':\n",
    "    print('Please choose a number between 1 and 5:')\n",
    "    n = int(input())\n",
    "    print(f'Please enter {n} numbers separated a space between them:')\n",
    "    arr = map(int, input().split())\n",
    "    sorted = sorted(arr)\n",
    "    max_value = sorted[-1]\n",
    "    new_list = []\n",
    "    for num in sorted:\n",
    "        if num < max_value:\n",
    "            new_list.append(num)\n",
    "    print('The second largest number in the list is:')\n",
    "    print(new_list[-1])"
   ]
  },
  {
   "cell_type": "code",
   "execution_count": null,
   "id": "f384ff30",
   "metadata": {},
   "outputs": [],
   "source": []
  }
 ],
 "metadata": {
  "kernelspec": {
   "display_name": "Python 3 (ipykernel)",
   "language": "python",
   "name": "python3"
  },
  "language_info": {
   "codemirror_mode": {
    "name": "ipython",
    "version": 3
   },
   "file_extension": ".py",
   "mimetype": "text/x-python",
   "name": "python",
   "nbconvert_exporter": "python",
   "pygments_lexer": "ipython3",
   "version": "3.10.9"
  }
 },
 "nbformat": 4,
 "nbformat_minor": 5
}
