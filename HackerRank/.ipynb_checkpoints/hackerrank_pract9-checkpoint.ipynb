{
 "cells": [
  {
   "cell_type": "code",
   "execution_count": null,
   "id": "c3be3877",
   "metadata": {},
   "outputs": [],
   "source": [
    "def mutate_string(string, position, character):\n",
    "    new_list = []\n",
    "    for char in string:\n",
    "        new_list.append(char)\n",
    "    new_list.pop(position)\n",
    "    new_list.insert(position, character)\n",
    "    s_new = ''.join(new_list)\n",
    "    return s_new\n",
    "if __name__ == '__main__':\n",
    "    print('Please type in a string:')\n",
    "    s = input()\n",
    "    print(f'''Please enter the position where the character will be changed in \"{s}\" string and\n",
    "also choose the character(s) you would like to see at that index separated a space between them:''')\n",
    "    i, c = input().split()\n",
    "    s_new = mutate_string(s, int(i), c)\n",
    "    print(s_new)"
   ]
  },
  {
   "cell_type": "code",
   "execution_count": null,
   "id": "aa1d21ce",
   "metadata": {},
   "outputs": [],
   "source": [
    "from collections import Counter\n",
    "print('Please enter the number of available shoes in the store:')\n",
    "X = int(input())\n",
    "print('Plese enter the available sizes of the shoes:')\n",
    "S = map(int, input().split())\n",
    "print('Please enter the current number of customers in the store:')\n",
    "N = int(input())\n",
    "print('Please enter the size and the selling price of the requested shoe with separated a space between them:')\n",
    "new_list = []\n",
    "for _ in range(N):\n",
    "    W = map(int, input().split())\n",
    "    new_list.append(Counter(W))    \n",
    "print(new_list)\n",
    "print(Counter(S))"
   ]
  },
  {
   "cell_type": "code",
   "execution_count": 1,
   "id": "eb2fd6b6",
   "metadata": {},
   "outputs": [],
   "source": [
    "list = [10, 20, 30, 40, 40]"
   ]
  },
  {
   "cell_type": "code",
   "execution_count": 10,
   "id": "0659bbf8",
   "metadata": {},
   "outputs": [],
   "source": [
    "a = (0 + num for num in list)"
   ]
  },
  {
   "cell_type": "code",
   "execution_count": 14,
   "id": "12b42e8d",
   "metadata": {},
   "outputs": [
    {
     "name": "stdout",
     "output_type": "stream",
     "text": [
      "None\n"
     ]
    }
   ],
   "source": [
    "print(a.gi_yieldfrom)"
   ]
  }
 ],
 "metadata": {
  "kernelspec": {
   "display_name": "Python 3 (ipykernel)",
   "language": "python",
   "name": "python3"
  },
  "language_info": {
   "codemirror_mode": {
    "name": "ipython",
    "version": 3
   },
   "file_extension": ".py",
   "mimetype": "text/x-python",
   "name": "python",
   "nbconvert_exporter": "python",
   "pygments_lexer": "ipython3",
   "version": "3.10.9"
  }
 },
 "nbformat": 4,
 "nbformat_minor": 5
}
