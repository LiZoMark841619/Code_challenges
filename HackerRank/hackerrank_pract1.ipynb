{
 "cells": [
  {
   "attachments": {},
   "cell_type": "markdown",
   "id": "ba409160",
   "metadata": {},
   "source": [
    "##### Function which search a substring in a string and calculate the occurences"
   ]
  },
  {
   "cell_type": "code",
   "execution_count": 4,
   "id": "bfb88569",
   "metadata": {},
   "outputs": [
    {
     "name": "stdout",
     "output_type": "stream",
     "text": [
      "The \"y\" substring in \"balazs yu\" string appears \"1\" time(s)\n"
     ]
    }
   ],
   "source": [
    "def count_substring(string, sub_string):\n",
    "    counter = sum(1 for i in range(len(string)-len(sub_string)+1) if string[i:len(sub_string)+i] == sub_string)\n",
    "    return sub_string, string, counter\n",
    "\n",
    "if __name__ == '__main__':\n",
    "    string = input('Please enter a string:').strip()\n",
    "    sub_string = input('Please enter a substring in order to calculate the occurences in the string:').strip()\n",
    "    count = count_substring(string, sub_string)\n",
    "    print(f'The \"{count[0]}\" substring in \"{count[1]}\" string appears \"{count[2]}\" time(s)')"
   ]
  },
  {
   "cell_type": "code",
   "execution_count": null,
   "id": "8701f460",
   "metadata": {},
   "outputs": [],
   "source": []
  }
 ],
 "metadata": {
  "kernelspec": {
   "display_name": "Python 3 (ipykernel)",
   "language": "python",
   "name": "python3"
  },
  "language_info": {
   "codemirror_mode": {
    "name": "ipython",
    "version": 3
   },
   "file_extension": ".py",
   "mimetype": "text/x-python",
   "name": "python",
   "nbconvert_exporter": "python",
   "pygments_lexer": "ipython3",
   "version": "3.11.4"
  }
 },
 "nbformat": 4,
 "nbformat_minor": 5
}
