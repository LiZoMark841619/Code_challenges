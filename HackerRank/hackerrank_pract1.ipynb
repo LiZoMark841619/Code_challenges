{
 "cells": [
  {
   "attachments": {},
   "cell_type": "markdown",
   "id": "ba409160",
   "metadata": {},
   "source": [
    "###### Function which search a substring in a string and calculate the occurences"
   ]
  },
  {
   "cell_type": "code",
   "execution_count": null,
   "id": "bfb88569",
   "metadata": {},
   "outputs": [],
   "source": [
    "def count_substring(string, sub_string):\n",
    "    counter = 0\n",
    "    for i in range(len(string)-len(sub_string)+1):\n",
    "        if string[i:len(sub_string)+i] == sub_string:\n",
    "            counter +=1 \n",
    "    return f'The substring \"{sub_string}\" appears in the string {counter} times.'\n",
    "\n",
    "if __name__ == '__main__':\n",
    "    string = input('Please enter a string:').strip()\n",
    "    sub_string = input('Please enter a substring in order to calculate the occurences in the string:').strip()\n",
    "    count = count_substring(string, sub_string)\n",
    "    print(count)"
   ]
  }
 ],
 "metadata": {
  "kernelspec": {
   "display_name": "Python 3 (ipykernel)",
   "language": "python",
   "name": "python3"
  },
  "language_info": {
   "codemirror_mode": {
    "name": "ipython",
    "version": 3
   },
   "file_extension": ".py",
   "mimetype": "text/x-python",
   "name": "python",
   "nbconvert_exporter": "python",
   "pygments_lexer": "ipython3",
   "version": "3.10.9"
  }
 },
 "nbformat": 4,
 "nbformat_minor": 5
}
