{
 "cells": [
  {
   "attachments": {},
   "cell_type": "markdown",
   "id": "a5997cf1",
   "metadata": {},
   "source": [
    "###### Calculate 2 numbers divison and modulo"
   ]
  },
  {
   "cell_type": "code",
   "execution_count": 4,
   "id": "eb2fd6b6",
   "metadata": {},
   "outputs": [
    {
     "name": "stdout",
     "output_type": "stream",
     "text": [
      "The divsion of (100, 200) is: 0\n",
      "The modulus of (100, 200) is: 100\n",
      "The division and the modulus of (100, 200) are as follows: (0, 100)\n"
     ]
    }
   ],
   "source": [
    "from __future__ import division\n",
    "\n",
    "if __name__=='__main__':\n",
    "    a = int(input('Please enter a number:'))\n",
    "    b = int(input('Pleas enter another number:'))\n",
    "    if b == 0:\n",
    "        raise ZeroDivisionError('Please select a non zero number!')\n",
    "    print(f'The divsion of {(a,b)} is:', a//b)\n",
    "    print(f'The modulus of {(a,b)} is:', a%b)\n",
    "    print(f'The division and the modulus of {(a,b)} are as follows:',divmod(a,b))\n"
   ]
  },
  {
   "cell_type": "code",
   "execution_count": null,
   "id": "63b5509d",
   "metadata": {},
   "outputs": [],
   "source": []
  }
 ],
 "metadata": {
  "kernelspec": {
   "display_name": "Python 3 (ipykernel)",
   "language": "python",
   "name": "python3"
  },
  "language_info": {
   "codemirror_mode": {
    "name": "ipython",
    "version": 3
   },
   "file_extension": ".py",
   "mimetype": "text/x-python",
   "name": "python",
   "nbconvert_exporter": "python",
   "pygments_lexer": "ipython3",
   "version": "3.10.9"
  }
 },
 "nbformat": 4,
 "nbformat_minor": 5
}
