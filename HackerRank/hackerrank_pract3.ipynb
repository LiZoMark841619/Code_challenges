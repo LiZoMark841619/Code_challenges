{
 "cells": [
  {
   "attachments": {},
   "cell_type": "markdown",
   "id": "4cd39801",
   "metadata": {},
   "source": [
    "###### Greeting function "
   ]
  },
  {
   "cell_type": "code",
   "execution_count": 1,
   "id": "3869de54",
   "metadata": {},
   "outputs": [
    {
     "name": "stdout",
     "output_type": "stream",
     "text": [
      "Hello Balazs Arva! You just delved into python.\n"
     ]
    }
   ],
   "source": [
    "def print_full_name(first, last):\n",
    "    print(f'Hello {first} {last}! You just delved into Python.')\n",
    "\n",
    "if __name__ == '__main__':\n",
    "    first_name = input('Your first name is:')\n",
    "    last_name = input('Your last name is:')\n",
    "    print_full_name(first_name, last_name)"
   ]
  },
  {
   "cell_type": "code",
   "execution_count": null,
   "id": "f384ff30",
   "metadata": {},
   "outputs": [],
   "source": []
  }
 ],
 "metadata": {
  "kernelspec": {
   "display_name": "Python 3 (ipykernel)",
   "language": "python",
   "name": "python3"
  },
  "language_info": {
   "codemirror_mode": {
    "name": "ipython",
    "version": 3
   },
   "file_extension": ".py",
   "mimetype": "text/x-python",
   "name": "python",
   "nbconvert_exporter": "python",
   "pygments_lexer": "ipython3",
   "version": "3.10.9"
  }
 },
 "nbformat": 4,
 "nbformat_minor": 5
}
