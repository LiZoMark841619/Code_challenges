{
 "cells": [
  {
   "attachments": {},
   "cell_type": "markdown",
   "id": "9539a31f",
   "metadata": {},
   "source": [
    "###### Function which search a person with the second-last-place in a class regarding the scores he/she and the classmates achieved"
   ]
  },
  {
   "cell_type": "code",
   "execution_count": 4,
   "id": "5cd5f673",
   "metadata": {},
   "outputs": [
    {
     "name": "stdout",
     "output_type": "stream",
     "text": [
      "The second-to-last person(s) in alphabetical order is/are as follow:\n",
      "Laszlo\n"
     ]
    }
   ],
   "source": [
    "if __name__ == '__main__':\n",
    "    data = {}\n",
    "    for _ in range(int(input('Please enter the number of persons:'))):\n",
    "        name = input('Requested name:')\n",
    "        score = float(input('Related score:'))\n",
    "        data[name] = score\n",
    "    scores = list(data.values())\n",
    "    sorted_scores = sorted(scores)\n",
    "    scores_new = [num for num in sorted_scores if num > sorted_scores[0]]\n",
    "    good_names = [key for key, value in data.items() if value == sorted_scores[0]]\n",
    "    good_names.sort()\n",
    "    print('The second-to-last person(s) in alphabetical order is/are as follow:')\n",
    "    for name in good_names:\n",
    "        print(name)"
   ]
  },
  {
   "cell_type": "code",
   "execution_count": null,
   "id": "239e2716",
   "metadata": {},
   "outputs": [],
   "source": []
  }
 ],
 "metadata": {
  "kernelspec": {
   "display_name": "Python 3 (ipykernel)",
   "language": "python",
   "name": "python3"
  },
  "language_info": {
   "codemirror_mode": {
    "name": "ipython",
    "version": 3
   },
   "file_extension": ".py",
   "mimetype": "text/x-python",
   "name": "python",
   "nbconvert_exporter": "python",
   "pygments_lexer": "ipython3",
   "version": "3.11.4"
  }
 },
 "nbformat": 4,
 "nbformat_minor": 5
}
