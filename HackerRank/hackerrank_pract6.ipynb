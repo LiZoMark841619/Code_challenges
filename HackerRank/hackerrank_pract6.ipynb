{
 "cells": [
  {
   "attachments": {},
   "cell_type": "markdown",
   "id": "4cd39801",
   "metadata": {},
   "source": [
    "###### Function which calculate the average score of a person in a class after requested the names and their scores"
   ]
  },
  {
   "cell_type": "code",
   "execution_count": 1,
   "id": "3869de54",
   "metadata": {},
   "outputs": [
    {
     "name": "stdout",
     "output_type": "stream",
     "text": [
      "Lilla's average score is: 300.00\n"
     ]
    }
   ],
   "source": [
    "if __name__ == '__main__':\n",
    "    student_marks = {}\n",
    "    for _ in range(int(input('Please enter the number of persons whose scores must be analysed:'))):\n",
    "        name, *line = input('Enter the name and the achieved scores separated with a space between them:').split()\n",
    "        scores = list(map(float, line))\n",
    "        student_marks[name] = scores\n",
    "    query_name = input('Please enter the name whose average score must be calculated:')\n",
    "    for key, value in student_marks.items():\n",
    "        if key == query_name:\n",
    "            print(f\"{query_name}'s average score is: {sum(value) / len(value):.2f}\")\n"
   ]
  },
  {
   "cell_type": "code",
   "execution_count": null,
   "id": "f384ff30",
   "metadata": {},
   "outputs": [],
   "source": []
  }
 ],
 "metadata": {
  "kernelspec": {
   "display_name": "Python 3 (ipykernel)",
   "language": "python",
   "name": "python3"
  },
  "language_info": {
   "codemirror_mode": {
    "name": "ipython",
    "version": 3
   },
   "file_extension": ".py",
   "mimetype": "text/x-python",
   "name": "python",
   "nbconvert_exporter": "python",
   "pygments_lexer": "ipython3",
   "version": "3.11.4"
  }
 },
 "nbformat": 4,
 "nbformat_minor": 5
}
