{
 "cells": [
  {
   "attachments": {},
   "cell_type": "markdown",
   "id": "4cd39801",
   "metadata": {},
   "source": [
    "###### Function which select the second largest number in a list"
   ]
  },
  {
   "cell_type": "code",
   "execution_count": 2,
   "id": "3869de54",
   "metadata": {},
   "outputs": [
    {
     "name": "stdout",
     "output_type": "stream",
     "text": [
      "In the [100, 200, 300] array the second largest number is 200\n"
     ]
    }
   ],
   "source": [
    "if __name__ == '__main__':\n",
    "    n = int(input('Please choose a number between 1 and 5:'))\n",
    "    arr = map(int, input('Please enter the numbers separated a space between them:').split())\n",
    "    sorted = sorted(arr)\n",
    "    max_value = sorted[-1]\n",
    "    new_list = [num for num in sorted if num < max_value]\n",
    "    print(f'In the {list(sorted)} array the second largest number is', new_list[-1])"
   ]
  },
  {
   "cell_type": "code",
   "execution_count": null,
   "id": "f384ff30",
   "metadata": {},
   "outputs": [],
   "source": []
  }
 ],
 "metadata": {
  "kernelspec": {
   "display_name": "Python 3 (ipykernel)",
   "language": "python",
   "name": "python3"
  },
  "language_info": {
   "codemirror_mode": {
    "name": "ipython",
    "version": 3
   },
   "file_extension": ".py",
   "mimetype": "text/x-python",
   "name": "python",
   "nbconvert_exporter": "python",
   "pygments_lexer": "ipython3",
   "version": "3.10.9"
  }
 },
 "nbformat": 4,
 "nbformat_minor": 5
}
