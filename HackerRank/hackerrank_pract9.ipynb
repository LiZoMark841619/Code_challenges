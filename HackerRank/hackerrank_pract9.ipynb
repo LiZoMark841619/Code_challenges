{
 "cells": [
  {
   "cell_type": "code",
   "execution_count": null,
   "id": "aa1d21ce",
   "metadata": {},
   "outputs": [],
   "source": [
    "from collections import Counter\n",
    "print('Please enter the number of available shoes in the store:')\n",
    "X = int(input())\n",
    "print('Plese enter the available sizes of the shoes:')\n",
    "S = map(int, input().split())\n",
    "print('Please enter the current number of customers in the store:')\n",
    "N = int(input())\n",
    "print('Please enter the size and the selling price of the requested shoe with separated a space between them:')\n",
    "new_list = []\n",
    "for _ in range(N):\n",
    "    W = map(int, input().split())\n",
    "    new_list.append(Counter(W))    \n",
    "print(new_list)\n",
    "print(Counter(S))"
   ]
  },
  {
   "cell_type": "code",
   "execution_count": 1,
   "id": "eb2fd6b6",
   "metadata": {},
   "outputs": [],
   "source": [
    "list = [10, 20, 30, 40, 40]"
   ]
  }
 ],
 "metadata": {
  "kernelspec": {
   "display_name": "Python 3 (ipykernel)",
   "language": "python",
   "name": "python3"
  },
  "language_info": {
   "codemirror_mode": {
    "name": "ipython",
    "version": 3
   },
   "file_extension": ".py",
   "mimetype": "text/x-python",
   "name": "python",
   "nbconvert_exporter": "python",
   "pygments_lexer": "ipython3",
   "version": "3.10.9"
  }
 },
 "nbformat": 4,
 "nbformat_minor": 5
}
